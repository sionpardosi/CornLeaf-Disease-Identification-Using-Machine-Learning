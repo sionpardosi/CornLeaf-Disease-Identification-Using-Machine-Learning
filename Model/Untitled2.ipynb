{
 "cells": [
  {
   "cell_type": "code",
   "execution_count": null,
   "id": "3f8932ad-1451-413e-b418-6b317f9dd58b",
   "metadata": {},
   "outputs": [],
   "source": [
    "from keras.layers import Conv2D, Dense, Dropout, Flatten, MaxPooling2D\n",
    "from keras.models import Sequential\n",
    "from tensorflow.keras.preprocessing.image import ImageDataGenerator"
   ]
  },
  {
   "cell_type": "code",
   "execution_count": null,
   "id": "3634fe9d-cbd8-4557-9401-c28c92ee4c3e",
   "metadata": {},
   "outputs": [],
   "source": [
    "data_dir = 'Dataset/'\n",
    "target_size = (244, 244)\n",
    "classes = 3\n",
    "\n",
    "train_datagen = ImageDataGenerator(rescale=1./255,\n",
    "                                   zoom_range=0.1,\n",
    "                                   horizontal_flip=False,\n",
    "                                   validation_split=0.2)\n",
    "                                   \n",
    "train_gen = train_datagen.flow_from_directory(data_dir, target_size = target_size,\n",
    "                                             shuffle=True,\n",
    "                                             batch_size=32,\n",
    "                                             color_mode = 'rgb',\n",
    "                                             class_mode = 'categorical',\n",
    "                                             subset='training',\n",
    "                                             )\n",
    "\n",
    "\n",
    "val_gen = train_datagen.flow_from_directory(data_dir, target_size=target_size, batch_size=32,\n",
    "                                           color_mode= 'rgb',\n",
    "                                           class_mode = 'categorical',\n",
    "                                           subset= 'validation')\n"
   ]
  },
  {
   "cell_type": "code",
   "execution_count": null,
   "id": "cdbd4f62",
   "metadata": {},
   "outputs": [],
   "source": [
    "model = Sequential()\n",
    "model.add(Conv2D(32, kernel_size=3, strides=1, activation='relu', padding='same', input_shape=(244, 244, 3)))\n",
    "model.add(MaxPooling2D(pool_size=(3, 3), strides=2))\n",
    "\n",
    "model.add(Conv2D(64, kernel_size=3, strides=1, activation='relu', padding='same'))\n",
    "model.add(MaxPooling2D(pool_size=(2, 2), strides=2))\n",
    "\n",
    "model.add(Conv2D(64, kernel_size=3, strides=1, activation='relu', padding='same'))\n",
    "model.add(MaxPooling2D(pool_size=(2, 2), strides=2))\n",
    "\n",
    "model.add(Conv2D(128, kernel_size=3, strides=1, activation='relu', padding='same'))\n",
    "model.add(MaxPooling2D(pool_size=(2, 2), strides=1))\n",
    "\n",
    "model.add(Flatten())\n",
    "\n",
    "model.add(Dropout(0.5))\n",
    "\n",
    "model.add(Dense(512, activation='relu'))\n",
    "model.add(Dense(classes, activation='softmax'))\n",
    "\n",
    "model.compile(optimizer='Adam', loss='categorical_crossentropy', metrics=['accuracy'])"
   ]
  },
  {
   "cell_type": "code",
   "execution_count": null,
   "id": "efb6436f",
   "metadata": {},
   "outputs": [],
   "source": [
    "model.summary()"
   ]
  },
  {
   "cell_type": "code",
   "execution_count": null,
   "id": "d4ba8617",
   "metadata": {},
   "outputs": [],
   "source": [
    "model.fit(train_gen, epochs=5, validation_data=val_gen)"
   ]
  },
  {
   "cell_type": "code",
   "execution_count": null,
   "id": "68e5d8c0",
   "metadata": {},
   "outputs": [],
   "source": [
    "model_json = model.to_json()\n",
    "with open(\"model.json\", 'w') as file:\n",
    "    file.write(model_json)\n",
    "model.save_weights(\"model.weights.h5\")\n",
    "print(\"SUCCESSFUL model is SAVED\")"
   ]
  },
  {
   "cell_type": "code",
   "execution_count": null,
   "id": "13999561",
   "metadata": {},
   "outputs": [],
   "source": [
    "\n",
    "from keras.models import model_from_json\n",
    "json_file = open('model.json','r')\n",
    "loaded_model_json = json_file.read()\n",
    "json_file.close()\n",
    "\n",
    "load_model = model_from_json(loaded_model_json)\n",
    "load_model.load_weights(\"model.weights.h5\")\n",
    "print(\"LOADED\")"
   ]
  },
  {
   "cell_type": "code",
   "execution_count": null,
   "id": "1c913f94",
   "metadata": {},
   "outputs": [],
   "source": [
    "import numpy as np\n",
    "import cv2\n",
    "\n",
    "# Memuat gambar\n",
    "image = cv2.imread(\"Examples/ex6.jpg\")\n",
    "\n",
    "# Mengubah ukuran gambar menjadi 100x100 piksel\n",
    "image = cv2.resize(image, (244, 244))\n",
    "\n",
    "# Mengubah bentuk gambar menjadi (1, 100, 100, 3) agar sesuai dengan input model\n",
    "image = np.reshape(image, (1, 244, 244, 3))\n",
    "\n",
    "# Melakukan prediksi dengan model yang sudah dimuat\n",
    "prediksi = load_model.predict(image)\n",
    "\n",
    "# Menampilkan hasil prediksi\n",
    "\n",
    "print(\"Prediksinya adalah angka\", prediksi)\n",
    "\n",
    "print(\"Prediksinya adalah angka\", np.argmax(prediksi))\n",
    "\n",
    "if(np.argmax(prediksi) == 0) :\n",
    "    print(\"Prediksinya adalah hawar\")\n",
    "if(np.argmax(prediksi) == 1) :\n",
    "    print(\"Prediksinya adalah sehat\")\n",
    "if(np.argmax(prediksi) == 2) :\n",
    "    print(\"Prediksinya adalah karat\")"
   ]
  }
 ],
 "metadata": {
  "kernelspec": {
   "display_name": "Python 3 (ipykernel)",
   "language": "python",
   "name": "python3"
  },
  "language_info": {
   "codemirror_mode": {
    "name": "ipython",
    "version": 3
   },
   "file_extension": ".py",
   "mimetype": "text/x-python",
   "name": "python",
   "nbconvert_exporter": "python",
   "pygments_lexer": "ipython3",
   "version": "3.12.4"
  }
 },
 "nbformat": 4,
 "nbformat_minor": 5
}
